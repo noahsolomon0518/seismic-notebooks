{
 "cells": [
  {
   "cell_type": "markdown",
   "id": "understanding-mathematics",
   "metadata": {},
   "source": [
    "## Goal: Predict water potability"
   ]
  },
  {
   "cell_type": "code",
   "execution_count": 2,
   "id": "initial-document",
   "metadata": {},
   "outputs": [],
   "source": [
    "_path = \"C:\\\\Users\\\\noahs\\\\Downloads\\\\archive\\\\water_potability.csv\"\n",
    "\n",
    "import pandas as pd\n",
    "df = pd.read_csv(_path)"
   ]
  },
  {
   "cell_type": "code",
   "execution_count": 3,
   "id": "theoretical-memorabilia",
   "metadata": {},
   "outputs": [
    {
     "name": "stdout",
     "output_type": "stream",
     "text": [
      "[       nan 3.71608008 8.09912419 ... 9.41951032 5.12676292 7.87467136]\n",
      "[204.89045547 129.42292051 224.23625939 ... 175.7626463  230.60375751\n",
      " 195.10229859]\n",
      "[20791.31898075 18630.05785797 19909.54173229 ... 33155.57821831\n",
      " 11983.86937634 17404.17706105]\n",
      "[7.30021187 6.63524588 9.2758836  ... 7.35023323 6.30335653 7.50930586]\n",
      "[368.51644135          nan 356.88613564 ... 258.93060041 345.70025734\n",
      " 359.94857437]\n",
      "[564.30865417 592.88535913 418.60621306 ... 432.04478305 402.88311312\n",
      " 327.45976046]\n",
      "[10.37978308 15.18001312 16.86863693 ... 11.03906969 11.16894622\n",
      " 16.14036763]\n",
      "[86.99097046 56.32907628 66.42009251 ... 69.84540029 77.4882131\n",
      " 78.69844633]\n",
      "[2.96313538 4.50065627 3.05593375 ... 3.2988755  4.70865847 2.30914906]\n",
      "[0 1]\n"
     ]
    }
   ],
   "source": [
    "for column in df.columns:\n",
    "    print(df[column].unique())"
   ]
  },
  {
   "cell_type": "markdown",
   "id": "artistic-population",
   "metadata": {},
   "source": [
    "Drop rows with nan values:"
   ]
  },
  {
   "cell_type": "code",
   "execution_count": 8,
   "id": "statutory-president",
   "metadata": {},
   "outputs": [
    {
     "data": {
      "text/html": [
       "<div>\n",
       "<style scoped>\n",
       "    .dataframe tbody tr th:only-of-type {\n",
       "        vertical-align: middle;\n",
       "    }\n",
       "\n",
       "    .dataframe tbody tr th {\n",
       "        vertical-align: top;\n",
       "    }\n",
       "\n",
       "    .dataframe thead th {\n",
       "        text-align: right;\n",
       "    }\n",
       "</style>\n",
       "<table border=\"1\" class=\"dataframe\">\n",
       "  <thead>\n",
       "    <tr style=\"text-align: right;\">\n",
       "      <th></th>\n",
       "      <th>ph</th>\n",
       "      <th>Hardness</th>\n",
       "      <th>Solids</th>\n",
       "      <th>Chloramines</th>\n",
       "      <th>Sulfate</th>\n",
       "      <th>Conductivity</th>\n",
       "      <th>Organic_carbon</th>\n",
       "      <th>Trihalomethanes</th>\n",
       "      <th>Turbidity</th>\n",
       "      <th>Potability</th>\n",
       "    </tr>\n",
       "  </thead>\n",
       "  <tbody>\n",
       "    <tr>\n",
       "      <th>3</th>\n",
       "      <td>8.316766</td>\n",
       "      <td>214.373394</td>\n",
       "      <td>22018.417441</td>\n",
       "      <td>8.059332</td>\n",
       "      <td>356.886136</td>\n",
       "      <td>363.266516</td>\n",
       "      <td>18.436524</td>\n",
       "      <td>100.341674</td>\n",
       "      <td>4.628771</td>\n",
       "      <td>0</td>\n",
       "    </tr>\n",
       "    <tr>\n",
       "      <th>4</th>\n",
       "      <td>9.092223</td>\n",
       "      <td>181.101509</td>\n",
       "      <td>17978.986339</td>\n",
       "      <td>6.546600</td>\n",
       "      <td>310.135738</td>\n",
       "      <td>398.410813</td>\n",
       "      <td>11.558279</td>\n",
       "      <td>31.997993</td>\n",
       "      <td>4.075075</td>\n",
       "      <td>0</td>\n",
       "    </tr>\n",
       "    <tr>\n",
       "      <th>5</th>\n",
       "      <td>5.584087</td>\n",
       "      <td>188.313324</td>\n",
       "      <td>28748.687739</td>\n",
       "      <td>7.544869</td>\n",
       "      <td>326.678363</td>\n",
       "      <td>280.467916</td>\n",
       "      <td>8.399735</td>\n",
       "      <td>54.917862</td>\n",
       "      <td>2.559708</td>\n",
       "      <td>0</td>\n",
       "    </tr>\n",
       "    <tr>\n",
       "      <th>6</th>\n",
       "      <td>10.223862</td>\n",
       "      <td>248.071735</td>\n",
       "      <td>28749.716544</td>\n",
       "      <td>7.513408</td>\n",
       "      <td>393.663396</td>\n",
       "      <td>283.651634</td>\n",
       "      <td>13.789695</td>\n",
       "      <td>84.603556</td>\n",
       "      <td>2.672989</td>\n",
       "      <td>0</td>\n",
       "    </tr>\n",
       "    <tr>\n",
       "      <th>7</th>\n",
       "      <td>8.635849</td>\n",
       "      <td>203.361523</td>\n",
       "      <td>13672.091764</td>\n",
       "      <td>4.563009</td>\n",
       "      <td>303.309771</td>\n",
       "      <td>474.607645</td>\n",
       "      <td>12.363817</td>\n",
       "      <td>62.798309</td>\n",
       "      <td>4.401425</td>\n",
       "      <td>0</td>\n",
       "    </tr>\n",
       "    <tr>\n",
       "      <th>...</th>\n",
       "      <td>...</td>\n",
       "      <td>...</td>\n",
       "      <td>...</td>\n",
       "      <td>...</td>\n",
       "      <td>...</td>\n",
       "      <td>...</td>\n",
       "      <td>...</td>\n",
       "      <td>...</td>\n",
       "      <td>...</td>\n",
       "      <td>...</td>\n",
       "    </tr>\n",
       "    <tr>\n",
       "      <th>3267</th>\n",
       "      <td>8.989900</td>\n",
       "      <td>215.047358</td>\n",
       "      <td>15921.412018</td>\n",
       "      <td>6.297312</td>\n",
       "      <td>312.931022</td>\n",
       "      <td>390.410231</td>\n",
       "      <td>9.899115</td>\n",
       "      <td>55.069304</td>\n",
       "      <td>4.613843</td>\n",
       "      <td>1</td>\n",
       "    </tr>\n",
       "    <tr>\n",
       "      <th>3268</th>\n",
       "      <td>6.702547</td>\n",
       "      <td>207.321086</td>\n",
       "      <td>17246.920347</td>\n",
       "      <td>7.708117</td>\n",
       "      <td>304.510230</td>\n",
       "      <td>329.266002</td>\n",
       "      <td>16.217303</td>\n",
       "      <td>28.878601</td>\n",
       "      <td>3.442983</td>\n",
       "      <td>1</td>\n",
       "    </tr>\n",
       "    <tr>\n",
       "      <th>3269</th>\n",
       "      <td>11.491011</td>\n",
       "      <td>94.812545</td>\n",
       "      <td>37188.826022</td>\n",
       "      <td>9.263166</td>\n",
       "      <td>258.930600</td>\n",
       "      <td>439.893618</td>\n",
       "      <td>16.172755</td>\n",
       "      <td>41.558501</td>\n",
       "      <td>4.369264</td>\n",
       "      <td>1</td>\n",
       "    </tr>\n",
       "    <tr>\n",
       "      <th>3270</th>\n",
       "      <td>6.069616</td>\n",
       "      <td>186.659040</td>\n",
       "      <td>26138.780191</td>\n",
       "      <td>7.747547</td>\n",
       "      <td>345.700257</td>\n",
       "      <td>415.886955</td>\n",
       "      <td>12.067620</td>\n",
       "      <td>60.419921</td>\n",
       "      <td>3.669712</td>\n",
       "      <td>1</td>\n",
       "    </tr>\n",
       "    <tr>\n",
       "      <th>3271</th>\n",
       "      <td>4.668102</td>\n",
       "      <td>193.681735</td>\n",
       "      <td>47580.991603</td>\n",
       "      <td>7.166639</td>\n",
       "      <td>359.948574</td>\n",
       "      <td>526.424171</td>\n",
       "      <td>13.894419</td>\n",
       "      <td>66.687695</td>\n",
       "      <td>4.435821</td>\n",
       "      <td>1</td>\n",
       "    </tr>\n",
       "  </tbody>\n",
       "</table>\n",
       "<p>2011 rows × 10 columns</p>\n",
       "</div>"
      ],
      "text/plain": [
       "             ph    Hardness        Solids  Chloramines     Sulfate  \\\n",
       "3      8.316766  214.373394  22018.417441     8.059332  356.886136   \n",
       "4      9.092223  181.101509  17978.986339     6.546600  310.135738   \n",
       "5      5.584087  188.313324  28748.687739     7.544869  326.678363   \n",
       "6     10.223862  248.071735  28749.716544     7.513408  393.663396   \n",
       "7      8.635849  203.361523  13672.091764     4.563009  303.309771   \n",
       "...         ...         ...           ...          ...         ...   \n",
       "3267   8.989900  215.047358  15921.412018     6.297312  312.931022   \n",
       "3268   6.702547  207.321086  17246.920347     7.708117  304.510230   \n",
       "3269  11.491011   94.812545  37188.826022     9.263166  258.930600   \n",
       "3270   6.069616  186.659040  26138.780191     7.747547  345.700257   \n",
       "3271   4.668102  193.681735  47580.991603     7.166639  359.948574   \n",
       "\n",
       "      Conductivity  Organic_carbon  Trihalomethanes  Turbidity  Potability  \n",
       "3       363.266516       18.436524       100.341674   4.628771           0  \n",
       "4       398.410813       11.558279        31.997993   4.075075           0  \n",
       "5       280.467916        8.399735        54.917862   2.559708           0  \n",
       "6       283.651634       13.789695        84.603556   2.672989           0  \n",
       "7       474.607645       12.363817        62.798309   4.401425           0  \n",
       "...            ...             ...              ...        ...         ...  \n",
       "3267    390.410231        9.899115        55.069304   4.613843           1  \n",
       "3268    329.266002       16.217303        28.878601   3.442983           1  \n",
       "3269    439.893618       16.172755        41.558501   4.369264           1  \n",
       "3270    415.886955       12.067620        60.419921   3.669712           1  \n",
       "3271    526.424171       13.894419        66.687695   4.435821           1  \n",
       "\n",
       "[2011 rows x 10 columns]"
      ]
     },
     "execution_count": 8,
     "metadata": {},
     "output_type": "execute_result"
    }
   ],
   "source": [
    "df = df.dropna()\n",
    "df"
   ]
  },
  {
   "cell_type": "markdown",
   "id": "agricultural-lodge",
   "metadata": {},
   "source": [
    "Select all columns except last for x data then last column for y data:"
   ]
  },
  {
   "cell_type": "code",
   "execution_count": 4,
   "id": "decreased-logging",
   "metadata": {},
   "outputs": [],
   "source": [
    "x = df.iloc[:,:9]\n",
    "y = df.iloc[:,9]"
   ]
  },
  {
   "cell_type": "markdown",
   "id": "dominant-husband",
   "metadata": {},
   "source": [
    "Split data into training data and test data:`"
   ]
  },
  {
   "cell_type": "code",
   "execution_count": 6,
   "id": "varying-polymer",
   "metadata": {},
   "outputs": [
    {
     "name": "stdout",
     "output_type": "stream",
     "text": [
      "(2620, 9) (656, 9) (2620,) (656,)\n"
     ]
    }
   ],
   "source": [
    "from sklearn.model_selection import train_test_split\n",
    "xTrain, xTest, yTrain, yTest = train_test_split(x, y, test_size = 0.2)\n",
    "print(xTrain.shape, xTest.shape, yTrain.shape, yTest.shape)"
   ]
  },
  {
   "cell_type": "markdown",
   "id": "pursuant-novelty",
   "metadata": {},
   "source": [
    "Create model:"
   ]
  },
  {
   "cell_type": "code",
   "execution_count": 7,
   "id": "verbal-brunei",
   "metadata": {},
   "outputs": [
    {
     "name": "stdout",
     "output_type": "stream",
     "text": [
      "Model: \"sequential\"\n",
      "_________________________________________________________________\n",
      "Layer (type)                 Output Shape              Param #   \n",
      "=================================================================\n",
      "dense (Dense)                (None, 16)                160       \n",
      "_________________________________________________________________\n",
      "dense_1 (Dense)              (None, 1)                 17        \n",
      "=================================================================\n",
      "Total params: 177\n",
      "Trainable params: 177\n",
      "Non-trainable params: 0\n",
      "_________________________________________________________________\n"
     ]
    }
   ],
   "source": [
    "from keras.models import Sequential\n",
    "from keras.layers import Dense\n",
    "\n",
    "model = Sequential([\n",
    "    Dense(16, activation = \"relu\", input_shape = (9,)),\n",
    "    Dense(1, activation = \"sigmoid\")\n",
    "])\n",
    "\n",
    "model.compile(optimizer = \"adam\", loss = \"binary_crossentropy\", metrics = [\"accuracy\"])\n",
    "model.summary()"
   ]
  },
  {
   "cell_type": "markdown",
   "id": "dying-ensemble",
   "metadata": {},
   "source": [
    "Train model:"
   ]
  },
  {
   "cell_type": "code",
   "execution_count": 8,
   "id": "compact-variety",
   "metadata": {},
   "outputs": [
    {
     "name": "stdout",
     "output_type": "stream",
     "text": [
      "Epoch 1/30\n",
      "82/82 [==============================] - 3s 15ms/step - loss: 112.8363 - accuracy: 0.5722 - val_loss: 0.6885 - val_accuracy: 0.5960\n",
      "Epoch 2/30\n",
      "82/82 [==============================] - 0s 5ms/step - loss: 0.6867 - accuracy: 0.6037 - val_loss: 0.6841 - val_accuracy: 0.5960\n",
      "Epoch 3/30\n",
      "82/82 [==============================] - 0s 5ms/step - loss: 0.6816 - accuracy: 0.6110 - val_loss: 0.6810 - val_accuracy: 0.5960\n",
      "Epoch 4/30\n",
      "82/82 [==============================] - 0s 5ms/step - loss: 0.6786 - accuracy: 0.6066 - val_loss: 0.6788 - val_accuracy: 0.5960\n",
      "Epoch 5/30\n",
      "82/82 [==============================] - 0s 5ms/step - loss: 0.6728 - accuracy: 0.6224 - val_loss: 0.6771 - val_accuracy: 0.5960\n",
      "Epoch 6/30\n",
      "82/82 [==============================] - 0s 5ms/step - loss: 0.6725 - accuracy: 0.6134 - val_loss: 0.6761 - val_accuracy: 0.5960\n",
      "Epoch 7/30\n",
      "82/82 [==============================] - 0s 5ms/step - loss: 0.6661 - accuracy: 0.6310 - val_loss: 0.6754 - val_accuracy: 0.5960\n",
      "Epoch 8/30\n",
      "82/82 [==============================] - 0s 5ms/step - loss: 0.6753 - accuracy: 0.5961 - val_loss: 0.6750 - val_accuracy: 0.5960\n",
      "Epoch 9/30\n",
      "82/82 [==============================] - 0s 5ms/step - loss: 0.6672 - accuracy: 0.6191 - val_loss: 0.6747 - val_accuracy: 0.5960\n",
      "Epoch 10/30\n",
      "82/82 [==============================] - 0s 5ms/step - loss: 0.6624 - accuracy: 0.6303 - val_loss: 0.6746 - val_accuracy: 0.5960\n",
      "Epoch 11/30\n",
      "82/82 [==============================] - 0s 5ms/step - loss: 0.6701 - accuracy: 0.6081 - val_loss: 0.6746 - val_accuracy: 0.5960\n",
      "Epoch 12/30\n",
      "82/82 [==============================] - 0s 5ms/step - loss: 0.6655 - accuracy: 0.6193 - val_loss: 0.6746 - val_accuracy: 0.5960\n",
      "Epoch 13/30\n",
      "82/82 [==============================] - 0s 5ms/step - loss: 0.6659 - accuracy: 0.6175 - val_loss: 0.6747 - val_accuracy: 0.5960\n",
      "Epoch 14/30\n",
      "82/82 [==============================] - 0s 5ms/step - loss: 0.6710 - accuracy: 0.6049 - val_loss: 0.6747 - val_accuracy: 0.5960\n",
      "Epoch 15/30\n",
      "82/82 [==============================] - 0s 5ms/step - loss: 0.6699 - accuracy: 0.6075 - val_loss: 0.6748 - val_accuracy: 0.5960\n",
      "Epoch 16/30\n",
      "82/82 [==============================] - 0s 5ms/step - loss: 0.6670 - accuracy: 0.6141 - val_loss: 0.6749 - val_accuracy: 0.5960\n",
      "Epoch 17/30\n",
      "82/82 [==============================] - 0s 5ms/step - loss: 0.6674 - accuracy: 0.6132 - val_loss: 0.6749 - val_accuracy: 0.5960\n",
      "Epoch 18/30\n",
      "82/82 [==============================] - 0s 5ms/step - loss: 0.6612 - accuracy: 0.6273 - val_loss: 0.6750 - val_accuracy: 0.5960\n",
      "Epoch 19/30\n",
      "82/82 [==============================] - 0s 5ms/step - loss: 0.6710 - accuracy: 0.6050 - val_loss: 0.6750 - val_accuracy: 0.5960\n",
      "Epoch 20/30\n",
      "82/82 [==============================] - 0s 5ms/step - loss: 0.6632 - accuracy: 0.6224 - val_loss: 0.6750 - val_accuracy: 0.5960\n",
      "Epoch 21/30\n",
      "82/82 [==============================] - 0s 5ms/step - loss: 0.6728 - accuracy: 0.6010 - val_loss: 0.6750 - val_accuracy: 0.5960\n",
      "Epoch 22/30\n",
      "82/82 [==============================] - 0s 5ms/step - loss: 0.6617 - accuracy: 0.6256 - val_loss: 0.6751 - val_accuracy: 0.5960\n",
      "Epoch 23/30\n",
      "82/82 [==============================] - 0s 5ms/step - loss: 0.6606 - accuracy: 0.6279 - val_loss: 0.6751 - val_accuracy: 0.5960\n",
      "Epoch 24/30\n",
      "82/82 [==============================] - 0s 5ms/step - loss: 0.6661 - accuracy: 0.6158 - val_loss: 0.6751 - val_accuracy: 0.5960\n",
      "Epoch 25/30\n",
      "82/82 [==============================] - 0s 5ms/step - loss: 0.6652 - accuracy: 0.6177 - val_loss: 0.6751 - val_accuracy: 0.5960\n",
      "Epoch 26/30\n",
      "82/82 [==============================] - 0s 5ms/step - loss: 0.6678 - accuracy: 0.6121 - val_loss: 0.6751 - val_accuracy: 0.5960\n",
      "Epoch 27/30\n",
      "82/82 [==============================] - 0s 5ms/step - loss: 0.6728 - accuracy: 0.6012 - val_loss: 0.6752 - val_accuracy: 0.5960\n",
      "Epoch 28/30\n",
      "82/82 [==============================] - 0s 5ms/step - loss: 0.6683 - accuracy: 0.6112 - val_loss: 0.6752 - val_accuracy: 0.5960\n",
      "Epoch 29/30\n",
      "82/82 [==============================] - 0s 5ms/step - loss: 0.6690 - accuracy: 0.6096 - val_loss: 0.6752 - val_accuracy: 0.5960\n",
      "Epoch 30/30\n",
      "82/82 [==============================] - 0s 5ms/step - loss: 0.6608 - accuracy: 0.6272 - val_loss: 0.6752 - val_accuracy: 0.5960\n"
     ]
    },
    {
     "data": {
      "text/plain": [
       "<tensorflow.python.keras.callbacks.History at 0x140888bb0a0>"
      ]
     },
     "execution_count": 8,
     "metadata": {},
     "output_type": "execute_result"
    }
   ],
   "source": [
    "model.fit(xTrain, yTrain, validation_data = (xTest, yTest), epochs = 30)"
   ]
  },
  {
   "cell_type": "markdown",
   "id": "distributed-minneapolis",
   "metadata": {},
   "source": [
    "Performs slightly better than baseline (random guess of 2 choices which is 50% accuracy)."
   ]
  }
 ],
 "metadata": {
  "kernelspec": {
   "display_name": "Python 3",
   "language": "python",
   "name": "python3"
  },
  "language_info": {
   "codemirror_mode": {
    "name": "ipython",
    "version": 3
   },
   "file_extension": ".py",
   "mimetype": "text/x-python",
   "name": "python",
   "nbconvert_exporter": "python",
   "pygments_lexer": "ipython3",
   "version": "3.8.8"
  }
 },
 "nbformat": 4,
 "nbformat_minor": 5
}
